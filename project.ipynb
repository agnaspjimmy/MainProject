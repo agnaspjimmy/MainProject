{
  "nbformat": 4,
  "nbformat_minor": 0,
  "metadata": {
    "colab": {
      "name": "project.ipynb",
      "provenance": [],
      "collapsed_sections": []
    },
    "kernelspec": {
      "name": "python3",
      "display_name": "Python 3"
    },
    "language_info": {
      "name": "python"
    }
  },
  "cells": [
    {
      "cell_type": "code",
      "execution_count": null,
      "metadata": {
        "id": "bwQMphl-JQXE"
      },
      "outputs": [],
      "source": [
        "from google.colab import drive"
      ]
    },
    {
      "cell_type": "code",
      "source": [
        "drive.mount('/content/drive')"
      ],
      "metadata": {
        "colab": {
          "base_uri": "https://localhost:8080/"
        },
        "id": "Y_5eUCPhJael",
        "outputId": "32a80b99-e96a-4b66-e149-ed26a2253d02"
      },
      "execution_count": null,
      "outputs": [
        {
          "output_type": "stream",
          "name": "stdout",
          "text": [
            "Mounted at /content/drive\n"
          ]
        }
      ]
    },
    {
      "cell_type": "code",
      "source": [
        "import pandas as pd\n",
        "import numpy as np\n",
        "import matplotlib.pyplot as plt\n",
        "import seaborn as sns\n"
      ],
      "metadata": {
        "id": "t42UouB3Jnn6"
      },
      "execution_count": null,
      "outputs": []
    },
    {
      "cell_type": "code",
      "source": [
        "data=pd.read_csv('/content/drive/MyDrive/ICT Project/twitter_data.csv')"
      ],
      "metadata": {
        "id": "6hPRDjIYL843"
      },
      "execution_count": null,
      "outputs": []
    },
    {
      "cell_type": "code",
      "source": [
        "data"
      ],
      "metadata": {
        "colab": {
          "base_uri": "https://localhost:8080/",
          "height": 991
        },
        "id": "P_S81M6VMLMZ",
        "outputId": "ed2ed824-fa2a-4f56-e230-eb36c79a5b57"
      },
      "execution_count": null,
      "outputs": [
        {
          "output_type": "execute_result",
          "data": {
            "text/html": [
              "\n",
              "  <div id=\"df-2d7a1a26-e95c-4665-874a-edce7080c197\">\n",
              "    <div class=\"colab-df-container\">\n",
              "      <div>\n",
              "<style scoped>\n",
              "    .dataframe tbody tr th:only-of-type {\n",
              "        vertical-align: middle;\n",
              "    }\n",
              "\n",
              "    .dataframe tbody tr th {\n",
              "        vertical-align: top;\n",
              "    }\n",
              "\n",
              "    .dataframe thead th {\n",
              "        text-align: right;\n",
              "    }\n",
              "</style>\n",
              "<table border=\"1\" class=\"dataframe\">\n",
              "  <thead>\n",
              "    <tr style=\"text-align: right;\">\n",
              "      <th></th>\n",
              "      <th>_unit_id</th>\n",
              "      <th>_golden</th>\n",
              "      <th>_unit_state</th>\n",
              "      <th>_trusted_judgments</th>\n",
              "      <th>_last_judgment_at</th>\n",
              "      <th>gender</th>\n",
              "      <th>gender:confidence</th>\n",
              "      <th>profile_yn</th>\n",
              "      <th>profile_yn:confidence</th>\n",
              "      <th>created</th>\n",
              "      <th>description</th>\n",
              "      <th>fav_number</th>\n",
              "      <th>gender_gold</th>\n",
              "      <th>link_color</th>\n",
              "      <th>name</th>\n",
              "      <th>profile_yn_gold</th>\n",
              "      <th>profileimage</th>\n",
              "      <th>retweet_count</th>\n",
              "      <th>sidebar_color</th>\n",
              "      <th>text</th>\n",
              "      <th>tweet_coord</th>\n",
              "      <th>tweet_count</th>\n",
              "      <th>tweet_created</th>\n",
              "      <th>tweet_id</th>\n",
              "      <th>tweet_location</th>\n",
              "      <th>user_timezone</th>\n",
              "    </tr>\n",
              "  </thead>\n",
              "  <tbody>\n",
              "    <tr>\n",
              "      <th>0</th>\n",
              "      <td>815719226</td>\n",
              "      <td>False</td>\n",
              "      <td>finalized</td>\n",
              "      <td>3</td>\n",
              "      <td>10/26/15 23:24</td>\n",
              "      <td>male</td>\n",
              "      <td>1.0000</td>\n",
              "      <td>yes</td>\n",
              "      <td>1.0</td>\n",
              "      <td>12/5/13 1:48</td>\n",
              "      <td>i sing my own rhythm.</td>\n",
              "      <td>0</td>\n",
              "      <td>NaN</td>\n",
              "      <td>08C2C2</td>\n",
              "      <td>sheezy0</td>\n",
              "      <td>NaN</td>\n",
              "      <td>https://pbs.twimg.com/profile_images/414342229...</td>\n",
              "      <td>0</td>\n",
              "      <td>FFFFFF</td>\n",
              "      <td>Robbie E Responds To Critics After Win Against...</td>\n",
              "      <td>NaN</td>\n",
              "      <td>110964</td>\n",
              "      <td>10/26/15 12:40</td>\n",
              "      <td>6.587300e+17</td>\n",
              "      <td>main; @Kan1shk3</td>\n",
              "      <td>Chennai</td>\n",
              "    </tr>\n",
              "    <tr>\n",
              "      <th>1</th>\n",
              "      <td>815719227</td>\n",
              "      <td>False</td>\n",
              "      <td>finalized</td>\n",
              "      <td>3</td>\n",
              "      <td>10/26/15 23:30</td>\n",
              "      <td>male</td>\n",
              "      <td>1.0000</td>\n",
              "      <td>yes</td>\n",
              "      <td>1.0</td>\n",
              "      <td>10/1/12 13:51</td>\n",
              "      <td>I'm the author of novels filled with family dr...</td>\n",
              "      <td>68</td>\n",
              "      <td>NaN</td>\n",
              "      <td>0084B4</td>\n",
              "      <td>DavdBurnett</td>\n",
              "      <td>NaN</td>\n",
              "      <td>https://pbs.twimg.com/profile_images/539604221...</td>\n",
              "      <td>0</td>\n",
              "      <td>C0DEED</td>\n",
              "      <td>‰ÛÏIt felt like they were my friends and I was...</td>\n",
              "      <td>NaN</td>\n",
              "      <td>7471</td>\n",
              "      <td>10/26/15 12:40</td>\n",
              "      <td>6.587300e+17</td>\n",
              "      <td>NaN</td>\n",
              "      <td>Eastern Time (US &amp; Canada)</td>\n",
              "    </tr>\n",
              "    <tr>\n",
              "      <th>2</th>\n",
              "      <td>815719228</td>\n",
              "      <td>False</td>\n",
              "      <td>finalized</td>\n",
              "      <td>3</td>\n",
              "      <td>10/26/15 23:33</td>\n",
              "      <td>male</td>\n",
              "      <td>0.6625</td>\n",
              "      <td>yes</td>\n",
              "      <td>1.0</td>\n",
              "      <td>11/28/14 11:30</td>\n",
              "      <td>louis whining and squealing and all</td>\n",
              "      <td>7696</td>\n",
              "      <td>NaN</td>\n",
              "      <td>ABB8C2</td>\n",
              "      <td>lwtprettylaugh</td>\n",
              "      <td>NaN</td>\n",
              "      <td>https://pbs.twimg.com/profile_images/657330418...</td>\n",
              "      <td>1</td>\n",
              "      <td>C0DEED</td>\n",
              "      <td>i absolutely adore when louis starts the songs...</td>\n",
              "      <td>NaN</td>\n",
              "      <td>5617</td>\n",
              "      <td>10/26/15 12:40</td>\n",
              "      <td>6.587300e+17</td>\n",
              "      <td>clcncl</td>\n",
              "      <td>Belgrade</td>\n",
              "    </tr>\n",
              "    <tr>\n",
              "      <th>3</th>\n",
              "      <td>815719229</td>\n",
              "      <td>False</td>\n",
              "      <td>finalized</td>\n",
              "      <td>3</td>\n",
              "      <td>10/26/15 23:10</td>\n",
              "      <td>male</td>\n",
              "      <td>1.0000</td>\n",
              "      <td>yes</td>\n",
              "      <td>1.0</td>\n",
              "      <td>6/11/09 22:39</td>\n",
              "      <td>Mobile guy.  49ers, Shazam, Google, Kleiner Pe...</td>\n",
              "      <td>202</td>\n",
              "      <td>NaN</td>\n",
              "      <td>0084B4</td>\n",
              "      <td>douggarland</td>\n",
              "      <td>NaN</td>\n",
              "      <td>https://pbs.twimg.com/profile_images/259703936...</td>\n",
              "      <td>0</td>\n",
              "      <td>C0DEED</td>\n",
              "      <td>Hi @JordanSpieth - Looking at the url - do you...</td>\n",
              "      <td>NaN</td>\n",
              "      <td>1693</td>\n",
              "      <td>10/26/15 12:40</td>\n",
              "      <td>6.587300e+17</td>\n",
              "      <td>Palo Alto, CA</td>\n",
              "      <td>Pacific Time (US &amp; Canada)</td>\n",
              "    </tr>\n",
              "    <tr>\n",
              "      <th>4</th>\n",
              "      <td>815719230</td>\n",
              "      <td>False</td>\n",
              "      <td>finalized</td>\n",
              "      <td>3</td>\n",
              "      <td>10/27/15 1:15</td>\n",
              "      <td>female</td>\n",
              "      <td>1.0000</td>\n",
              "      <td>yes</td>\n",
              "      <td>1.0</td>\n",
              "      <td>4/16/14 13:23</td>\n",
              "      <td>Ricky Wilson The Best FRONTMAN/Kaiser Chiefs T...</td>\n",
              "      <td>37318</td>\n",
              "      <td>NaN</td>\n",
              "      <td>3B94D9</td>\n",
              "      <td>WilfordGemma</td>\n",
              "      <td>NaN</td>\n",
              "      <td>https://pbs.twimg.com/profile_images/564094871...</td>\n",
              "      <td>0</td>\n",
              "      <td>0</td>\n",
              "      <td>Watching Neighbours on Sky+ catching up with t...</td>\n",
              "      <td>NaN</td>\n",
              "      <td>31462</td>\n",
              "      <td>10/26/15 12:40</td>\n",
              "      <td>6.587300e+17</td>\n",
              "      <td>NaN</td>\n",
              "      <td>NaN</td>\n",
              "    </tr>\n",
              "    <tr>\n",
              "      <th>...</th>\n",
              "      <td>...</td>\n",
              "      <td>...</td>\n",
              "      <td>...</td>\n",
              "      <td>...</td>\n",
              "      <td>...</td>\n",
              "      <td>...</td>\n",
              "      <td>...</td>\n",
              "      <td>...</td>\n",
              "      <td>...</td>\n",
              "      <td>...</td>\n",
              "      <td>...</td>\n",
              "      <td>...</td>\n",
              "      <td>...</td>\n",
              "      <td>...</td>\n",
              "      <td>...</td>\n",
              "      <td>...</td>\n",
              "      <td>...</td>\n",
              "      <td>...</td>\n",
              "      <td>...</td>\n",
              "      <td>...</td>\n",
              "      <td>...</td>\n",
              "      <td>...</td>\n",
              "      <td>...</td>\n",
              "      <td>...</td>\n",
              "      <td>...</td>\n",
              "      <td>...</td>\n",
              "    </tr>\n",
              "    <tr>\n",
              "      <th>20045</th>\n",
              "      <td>815757572</td>\n",
              "      <td>True</td>\n",
              "      <td>golden</td>\n",
              "      <td>259</td>\n",
              "      <td>NaN</td>\n",
              "      <td>female</td>\n",
              "      <td>1.0000</td>\n",
              "      <td>yes</td>\n",
              "      <td>1.0</td>\n",
              "      <td>8/5/15 21:16</td>\n",
              "      <td>(rp)</td>\n",
              "      <td>302</td>\n",
              "      <td>female</td>\n",
              "      <td>0084B4</td>\n",
              "      <td>capuletrosa</td>\n",
              "      <td>yes</td>\n",
              "      <td>https://pbs.twimg.com/profile_images/656793310...</td>\n",
              "      <td>0</td>\n",
              "      <td>C0DEED</td>\n",
              "      <td>@lookupondeath ...Fine, and I'll drink tea too...</td>\n",
              "      <td>NaN</td>\n",
              "      <td>783</td>\n",
              "      <td>10/26/15 13:20</td>\n",
              "      <td>6.587400e+17</td>\n",
              "      <td>Verona ‰ªÁ</td>\n",
              "      <td>NaN</td>\n",
              "    </tr>\n",
              "    <tr>\n",
              "      <th>20046</th>\n",
              "      <td>815757681</td>\n",
              "      <td>True</td>\n",
              "      <td>golden</td>\n",
              "      <td>248</td>\n",
              "      <td>NaN</td>\n",
              "      <td>male</td>\n",
              "      <td>1.0000</td>\n",
              "      <td>yes</td>\n",
              "      <td>1.0</td>\n",
              "      <td>8/15/12 21:17</td>\n",
              "      <td>Whatever you like, it's not a problem at all. ...</td>\n",
              "      <td>2513</td>\n",
              "      <td>male</td>\n",
              "      <td>CFB929</td>\n",
              "      <td>BenNight41</td>\n",
              "      <td>yes</td>\n",
              "      <td>https://pbs.twimg.com/profile_images/639815429...</td>\n",
              "      <td>0</td>\n",
              "      <td>0</td>\n",
              "      <td>Greg Hardy you a good player and all but don't...</td>\n",
              "      <td>NaN</td>\n",
              "      <td>13523</td>\n",
              "      <td>10/26/15 12:40</td>\n",
              "      <td>6.587300e+17</td>\n",
              "      <td>Kansas City, MO</td>\n",
              "      <td>NaN</td>\n",
              "    </tr>\n",
              "    <tr>\n",
              "      <th>20047</th>\n",
              "      <td>815757830</td>\n",
              "      <td>True</td>\n",
              "      <td>golden</td>\n",
              "      <td>264</td>\n",
              "      <td>NaN</td>\n",
              "      <td>male</td>\n",
              "      <td>1.0000</td>\n",
              "      <td>yes</td>\n",
              "      <td>1.0</td>\n",
              "      <td>9/3/12 1:17</td>\n",
              "      <td>#TeamBarcelona ..You look lost so you should f...</td>\n",
              "      <td>50</td>\n",
              "      <td>male</td>\n",
              "      <td>0084B4</td>\n",
              "      <td>realuzzyfluxz</td>\n",
              "      <td>yes</td>\n",
              "      <td>https://pbs.twimg.com/profile_images/655473271...</td>\n",
              "      <td>0</td>\n",
              "      <td>C0DEED</td>\n",
              "      <td>You can miss people and still never want to se...</td>\n",
              "      <td>NaN</td>\n",
              "      <td>26419</td>\n",
              "      <td>10/26/15 13:20</td>\n",
              "      <td>6.587400e+17</td>\n",
              "      <td>Lagos Nigeria</td>\n",
              "      <td>NaN</td>\n",
              "    </tr>\n",
              "    <tr>\n",
              "      <th>20048</th>\n",
              "      <td>815757921</td>\n",
              "      <td>True</td>\n",
              "      <td>golden</td>\n",
              "      <td>250</td>\n",
              "      <td>NaN</td>\n",
              "      <td>female</td>\n",
              "      <td>0.8489</td>\n",
              "      <td>yes</td>\n",
              "      <td>1.0</td>\n",
              "      <td>11/6/12 23:46</td>\n",
              "      <td>Anti-statist; I homeschool my kids. Aspiring t...</td>\n",
              "      <td>70804</td>\n",
              "      <td>female</td>\n",
              "      <td>9266CC</td>\n",
              "      <td>argumatronic</td>\n",
              "      <td>yes</td>\n",
              "      <td>https://pbs.twimg.com/profile_images/657716093...</td>\n",
              "      <td>0</td>\n",
              "      <td>0</td>\n",
              "      <td>@bitemyapp i had noticed your tendency to pee ...</td>\n",
              "      <td>NaN</td>\n",
              "      <td>56073</td>\n",
              "      <td>10/26/15 12:40</td>\n",
              "      <td>6.587300e+17</td>\n",
              "      <td>Texas Hill Country</td>\n",
              "      <td>NaN</td>\n",
              "    </tr>\n",
              "    <tr>\n",
              "      <th>20049</th>\n",
              "      <td>815757985</td>\n",
              "      <td>True</td>\n",
              "      <td>golden</td>\n",
              "      <td>249</td>\n",
              "      <td>NaN</td>\n",
              "      <td>female</td>\n",
              "      <td>1.0000</td>\n",
              "      <td>yes</td>\n",
              "      <td>1.0</td>\n",
              "      <td>4/14/14 17:22</td>\n",
              "      <td>Teamwork makes the dream work.</td>\n",
              "      <td>3348</td>\n",
              "      <td>female</td>\n",
              "      <td>0084B4</td>\n",
              "      <td>MeganFitz20</td>\n",
              "      <td>yes</td>\n",
              "      <td>https://pbs.twimg.com/profile_images/655134724...</td>\n",
              "      <td>0</td>\n",
              "      <td>C0DEED</td>\n",
              "      <td>I think for my APUSH creative project I'm goin...</td>\n",
              "      <td>NaN</td>\n",
              "      <td>2922</td>\n",
              "      <td>10/26/15 13:19</td>\n",
              "      <td>6.587400e+17</td>\n",
              "      <td>NaN</td>\n",
              "      <td>NaN</td>\n",
              "    </tr>\n",
              "  </tbody>\n",
              "</table>\n",
              "<p>20050 rows × 26 columns</p>\n",
              "</div>\n",
              "      <button class=\"colab-df-convert\" onclick=\"convertToInteractive('df-2d7a1a26-e95c-4665-874a-edce7080c197')\"\n",
              "              title=\"Convert this dataframe to an interactive table.\"\n",
              "              style=\"display:none;\">\n",
              "        \n",
              "  <svg xmlns=\"http://www.w3.org/2000/svg\" height=\"24px\"viewBox=\"0 0 24 24\"\n",
              "       width=\"24px\">\n",
              "    <path d=\"M0 0h24v24H0V0z\" fill=\"none\"/>\n",
              "    <path d=\"M18.56 5.44l.94 2.06.94-2.06 2.06-.94-2.06-.94-.94-2.06-.94 2.06-2.06.94zm-11 1L8.5 8.5l.94-2.06 2.06-.94-2.06-.94L8.5 2.5l-.94 2.06-2.06.94zm10 10l.94 2.06.94-2.06 2.06-.94-2.06-.94-.94-2.06-.94 2.06-2.06.94z\"/><path d=\"M17.41 7.96l-1.37-1.37c-.4-.4-.92-.59-1.43-.59-.52 0-1.04.2-1.43.59L10.3 9.45l-7.72 7.72c-.78.78-.78 2.05 0 2.83L4 21.41c.39.39.9.59 1.41.59.51 0 1.02-.2 1.41-.59l7.78-7.78 2.81-2.81c.8-.78.8-2.07 0-2.86zM5.41 20L4 18.59l7.72-7.72 1.47 1.35L5.41 20z\"/>\n",
              "  </svg>\n",
              "      </button>\n",
              "      \n",
              "  <style>\n",
              "    .colab-df-container {\n",
              "      display:flex;\n",
              "      flex-wrap:wrap;\n",
              "      gap: 12px;\n",
              "    }\n",
              "\n",
              "    .colab-df-convert {\n",
              "      background-color: #E8F0FE;\n",
              "      border: none;\n",
              "      border-radius: 50%;\n",
              "      cursor: pointer;\n",
              "      display: none;\n",
              "      fill: #1967D2;\n",
              "      height: 32px;\n",
              "      padding: 0 0 0 0;\n",
              "      width: 32px;\n",
              "    }\n",
              "\n",
              "    .colab-df-convert:hover {\n",
              "      background-color: #E2EBFA;\n",
              "      box-shadow: 0px 1px 2px rgba(60, 64, 67, 0.3), 0px 1px 3px 1px rgba(60, 64, 67, 0.15);\n",
              "      fill: #174EA6;\n",
              "    }\n",
              "\n",
              "    [theme=dark] .colab-df-convert {\n",
              "      background-color: #3B4455;\n",
              "      fill: #D2E3FC;\n",
              "    }\n",
              "\n",
              "    [theme=dark] .colab-df-convert:hover {\n",
              "      background-color: #434B5C;\n",
              "      box-shadow: 0px 1px 3px 1px rgba(0, 0, 0, 0.15);\n",
              "      filter: drop-shadow(0px 1px 2px rgba(0, 0, 0, 0.3));\n",
              "      fill: #FFFFFF;\n",
              "    }\n",
              "  </style>\n",
              "\n",
              "      <script>\n",
              "        const buttonEl =\n",
              "          document.querySelector('#df-2d7a1a26-e95c-4665-874a-edce7080c197 button.colab-df-convert');\n",
              "        buttonEl.style.display =\n",
              "          google.colab.kernel.accessAllowed ? 'block' : 'none';\n",
              "\n",
              "        async function convertToInteractive(key) {\n",
              "          const element = document.querySelector('#df-2d7a1a26-e95c-4665-874a-edce7080c197');\n",
              "          const dataTable =\n",
              "            await google.colab.kernel.invokeFunction('convertToInteractive',\n",
              "                                                     [key], {});\n",
              "          if (!dataTable) return;\n",
              "\n",
              "          const docLinkHtml = 'Like what you see? Visit the ' +\n",
              "            '<a target=\"_blank\" href=https://colab.research.google.com/notebooks/data_table.ipynb>data table notebook</a>'\n",
              "            + ' to learn more about interactive tables.';\n",
              "          element.innerHTML = '';\n",
              "          dataTable['output_type'] = 'display_data';\n",
              "          await google.colab.output.renderOutput(dataTable, element);\n",
              "          const docLink = document.createElement('div');\n",
              "          docLink.innerHTML = docLinkHtml;\n",
              "          element.appendChild(docLink);\n",
              "        }\n",
              "      </script>\n",
              "    </div>\n",
              "  </div>\n",
              "  "
            ],
            "text/plain": [
              "        _unit_id  _golden  ...      tweet_location               user_timezone\n",
              "0      815719226    False  ...     main; @Kan1shk3                     Chennai\n",
              "1      815719227    False  ...                 NaN  Eastern Time (US & Canada)\n",
              "2      815719228    False  ...              clcncl                    Belgrade\n",
              "3      815719229    False  ...       Palo Alto, CA  Pacific Time (US & Canada)\n",
              "4      815719230    False  ...                 NaN                         NaN\n",
              "...          ...      ...  ...                 ...                         ...\n",
              "20045  815757572     True  ...          Verona ‰ªÁ                         NaN\n",
              "20046  815757681     True  ...     Kansas City, MO                         NaN\n",
              "20047  815757830     True  ...      Lagos Nigeria                          NaN\n",
              "20048  815757921     True  ...  Texas Hill Country                         NaN\n",
              "20049  815757985     True  ...                 NaN                         NaN\n",
              "\n",
              "[20050 rows x 26 columns]"
            ]
          },
          "metadata": {},
          "execution_count": 5
        }
      ]
    },
    {
      "cell_type": "code",
      "source": [
        "data.columns"
      ],
      "metadata": {
        "colab": {
          "base_uri": "https://localhost:8080/"
        },
        "id": "wJAOrhx1JiDo",
        "outputId": "72273759-73f4-40ca-a8fd-343d8e25f6b5"
      },
      "execution_count": null,
      "outputs": [
        {
          "output_type": "execute_result",
          "data": {
            "text/plain": [
              "Index(['_unit_id', '_golden', '_unit_state', '_trusted_judgments',\n",
              "       '_last_judgment_at', 'gender', 'gender:confidence', 'profile_yn',\n",
              "       'profile_yn:confidence', 'created', 'description', 'fav_number',\n",
              "       'gender_gold', 'link_color', 'name', 'profile_yn_gold', 'profileimage',\n",
              "       'retweet_count', 'sidebar_color', 'text', 'tweet_coord', 'tweet_count',\n",
              "       'tweet_created', 'tweet_id', 'tweet_location', 'user_timezone'],\n",
              "      dtype='object')"
            ]
          },
          "metadata": {},
          "execution_count": 6
        }
      ]
    },
    {
      "cell_type": "markdown",
      "source": [
        "The dataset contains the following fields:\n",
        "\n",
        "\n",
        "unitid: a unique id for user\n",
        "\n",
        "_golden: whether the user was included in the gold standard for the model; TRUE or FALSE\n",
        "\n",
        "unitstate: state of the observation; one of finalized (for contributor-judged) or golden (for gold standard observations)\n",
        "\n",
        "trustedjudgments: number of trusted judgments (int); always 3 for non-golden, and what may be a unique id for gold standard observations\n",
        "\n",
        "lastjudgment_at: date and time of last contributor judgment; blank for gold standard observations\n",
        "\n",
        "gender: one of male, female, or brand (for non-human profiles)\n",
        "\n",
        "gender:confidence: a float representing confidence in the provided gender\n",
        "\n",
        "profile_yn: \"no\" here seems to mean that the profile was meant to be part of the dataset but was not available when contributors went to judge it\n",
        "\n",
        "profile_yn:confidence: confidence in the existence/non-existence of the profile\n",
        "\n",
        "created: date and time when the profile was created\n",
        "\n",
        "description: the user's profile description\n",
        "\n",
        "fav_number: number of tweets the user has favorited\n",
        "\n",
        "gender_gold: if the profile is golden, what is the gender?\n",
        "\n",
        "link_color: the link color on the profile, as a hex value\n",
        "\n",
        "name: the user's name\n",
        "\n",
        "profileyngold: whether the profile y/n value is golden\n",
        "\n",
        "profileimage: a link to the profile image\n",
        "\n",
        "retweet_count: number of times the user has retweeted (or possibly, been retweeted)\n",
        "\n",
        "sidebar_color: color of the profile sidebar, as a hex value\n",
        "\n",
        "text: text of a random one of the user's tweets\n",
        "\n",
        "tweet_coord: if the user has location turned on, the coordinates as a string with the format \"[latitude, longitude]\"\n",
        "\n",
        "tweet_count: number of tweets that the user has posted\n",
        "\n",
        "tweet_created: when the random tweet (in the text column) was created\n",
        "\n",
        "tweet_id: the tweet id of the random tweet\n",
        "\n",
        "tweet_location: location of the tweet; seems to not be particularly normalized\n",
        "\n",
        "user_timezone: the timezone of the user\n",
        "\n"
      ],
      "metadata": {
        "id": "pJNgT-GeMEi9"
      }
    },
    {
      "cell_type": "code",
      "source": [
        "data.describe()"
      ],
      "metadata": {
        "colab": {
          "base_uri": "https://localhost:8080/",
          "height": 300
        },
        "id": "dk0A5HJzUipW",
        "outputId": "5cea5f74-59e6-436f-9466-8d07fddcb14d"
      },
      "execution_count": null,
      "outputs": [
        {
          "output_type": "execute_result",
          "data": {
            "text/html": [
              "\n",
              "  <div id=\"df-b896f945-a5b7-48ac-b95e-bb6706f82c75\">\n",
              "    <div class=\"colab-df-container\">\n",
              "      <div>\n",
              "<style scoped>\n",
              "    .dataframe tbody tr th:only-of-type {\n",
              "        vertical-align: middle;\n",
              "    }\n",
              "\n",
              "    .dataframe tbody tr th {\n",
              "        vertical-align: top;\n",
              "    }\n",
              "\n",
              "    .dataframe thead th {\n",
              "        text-align: right;\n",
              "    }\n",
              "</style>\n",
              "<table border=\"1\" class=\"dataframe\">\n",
              "  <thead>\n",
              "    <tr style=\"text-align: right;\">\n",
              "      <th></th>\n",
              "      <th>_unit_id</th>\n",
              "      <th>_trusted_judgments</th>\n",
              "      <th>gender:confidence</th>\n",
              "      <th>profile_yn:confidence</th>\n",
              "      <th>fav_number</th>\n",
              "      <th>retweet_count</th>\n",
              "      <th>tweet_count</th>\n",
              "      <th>tweet_id</th>\n",
              "    </tr>\n",
              "  </thead>\n",
              "  <tbody>\n",
              "    <tr>\n",
              "      <th>count</th>\n",
              "      <td>2.005000e+04</td>\n",
              "      <td>20050.000000</td>\n",
              "      <td>20024.000000</td>\n",
              "      <td>20050.000000</td>\n",
              "      <td>20050.000000</td>\n",
              "      <td>20050.000000</td>\n",
              "      <td>2.005000e+04</td>\n",
              "      <td>2.005000e+04</td>\n",
              "    </tr>\n",
              "    <tr>\n",
              "      <th>mean</th>\n",
              "      <td>8.157294e+08</td>\n",
              "      <td>3.615711</td>\n",
              "      <td>0.882756</td>\n",
              "      <td>0.993221</td>\n",
              "      <td>4382.201646</td>\n",
              "      <td>0.079401</td>\n",
              "      <td>3.892469e+04</td>\n",
              "      <td>6.587350e+17</td>\n",
              "    </tr>\n",
              "    <tr>\n",
              "      <th>std</th>\n",
              "      <td>6.000801e+03</td>\n",
              "      <td>12.331890</td>\n",
              "      <td>0.191403</td>\n",
              "      <td>0.047168</td>\n",
              "      <td>12518.575919</td>\n",
              "      <td>2.649751</td>\n",
              "      <td>1.168371e+05</td>\n",
              "      <td>5.000124e+12</td>\n",
              "    </tr>\n",
              "    <tr>\n",
              "      <th>min</th>\n",
              "      <td>8.157192e+08</td>\n",
              "      <td>3.000000</td>\n",
              "      <td>0.000000</td>\n",
              "      <td>0.627200</td>\n",
              "      <td>0.000000</td>\n",
              "      <td>0.000000</td>\n",
              "      <td>1.000000e+00</td>\n",
              "      <td>6.587300e+17</td>\n",
              "    </tr>\n",
              "    <tr>\n",
              "      <th>25%</th>\n",
              "      <td>8.157243e+08</td>\n",
              "      <td>3.000000</td>\n",
              "      <td>0.677800</td>\n",
              "      <td>1.000000</td>\n",
              "      <td>11.000000</td>\n",
              "      <td>0.000000</td>\n",
              "      <td>2.398000e+03</td>\n",
              "      <td>6.587300e+17</td>\n",
              "    </tr>\n",
              "    <tr>\n",
              "      <th>50%</th>\n",
              "      <td>8.157294e+08</td>\n",
              "      <td>3.000000</td>\n",
              "      <td>1.000000</td>\n",
              "      <td>1.000000</td>\n",
              "      <td>456.000000</td>\n",
              "      <td>0.000000</td>\n",
              "      <td>1.144150e+04</td>\n",
              "      <td>6.587300e+17</td>\n",
              "    </tr>\n",
              "    <tr>\n",
              "      <th>75%</th>\n",
              "      <td>8.157345e+08</td>\n",
              "      <td>3.000000</td>\n",
              "      <td>1.000000</td>\n",
              "      <td>1.000000</td>\n",
              "      <td>3315.500000</td>\n",
              "      <td>0.000000</td>\n",
              "      <td>4.002750e+04</td>\n",
              "      <td>6.587400e+17</td>\n",
              "    </tr>\n",
              "    <tr>\n",
              "      <th>max</th>\n",
              "      <td>8.157580e+08</td>\n",
              "      <td>274.000000</td>\n",
              "      <td>1.000000</td>\n",
              "      <td>1.000000</td>\n",
              "      <td>341621.000000</td>\n",
              "      <td>330.000000</td>\n",
              "      <td>2.680199e+06</td>\n",
              "      <td>6.587400e+17</td>\n",
              "    </tr>\n",
              "  </tbody>\n",
              "</table>\n",
              "</div>\n",
              "      <button class=\"colab-df-convert\" onclick=\"convertToInteractive('df-b896f945-a5b7-48ac-b95e-bb6706f82c75')\"\n",
              "              title=\"Convert this dataframe to an interactive table.\"\n",
              "              style=\"display:none;\">\n",
              "        \n",
              "  <svg xmlns=\"http://www.w3.org/2000/svg\" height=\"24px\"viewBox=\"0 0 24 24\"\n",
              "       width=\"24px\">\n",
              "    <path d=\"M0 0h24v24H0V0z\" fill=\"none\"/>\n",
              "    <path d=\"M18.56 5.44l.94 2.06.94-2.06 2.06-.94-2.06-.94-.94-2.06-.94 2.06-2.06.94zm-11 1L8.5 8.5l.94-2.06 2.06-.94-2.06-.94L8.5 2.5l-.94 2.06-2.06.94zm10 10l.94 2.06.94-2.06 2.06-.94-2.06-.94-.94-2.06-.94 2.06-2.06.94z\"/><path d=\"M17.41 7.96l-1.37-1.37c-.4-.4-.92-.59-1.43-.59-.52 0-1.04.2-1.43.59L10.3 9.45l-7.72 7.72c-.78.78-.78 2.05 0 2.83L4 21.41c.39.39.9.59 1.41.59.51 0 1.02-.2 1.41-.59l7.78-7.78 2.81-2.81c.8-.78.8-2.07 0-2.86zM5.41 20L4 18.59l7.72-7.72 1.47 1.35L5.41 20z\"/>\n",
              "  </svg>\n",
              "      </button>\n",
              "      \n",
              "  <style>\n",
              "    .colab-df-container {\n",
              "      display:flex;\n",
              "      flex-wrap:wrap;\n",
              "      gap: 12px;\n",
              "    }\n",
              "\n",
              "    .colab-df-convert {\n",
              "      background-color: #E8F0FE;\n",
              "      border: none;\n",
              "      border-radius: 50%;\n",
              "      cursor: pointer;\n",
              "      display: none;\n",
              "      fill: #1967D2;\n",
              "      height: 32px;\n",
              "      padding: 0 0 0 0;\n",
              "      width: 32px;\n",
              "    }\n",
              "\n",
              "    .colab-df-convert:hover {\n",
              "      background-color: #E2EBFA;\n",
              "      box-shadow: 0px 1px 2px rgba(60, 64, 67, 0.3), 0px 1px 3px 1px rgba(60, 64, 67, 0.15);\n",
              "      fill: #174EA6;\n",
              "    }\n",
              "\n",
              "    [theme=dark] .colab-df-convert {\n",
              "      background-color: #3B4455;\n",
              "      fill: #D2E3FC;\n",
              "    }\n",
              "\n",
              "    [theme=dark] .colab-df-convert:hover {\n",
              "      background-color: #434B5C;\n",
              "      box-shadow: 0px 1px 3px 1px rgba(0, 0, 0, 0.15);\n",
              "      filter: drop-shadow(0px 1px 2px rgba(0, 0, 0, 0.3));\n",
              "      fill: #FFFFFF;\n",
              "    }\n",
              "  </style>\n",
              "\n",
              "      <script>\n",
              "        const buttonEl =\n",
              "          document.querySelector('#df-b896f945-a5b7-48ac-b95e-bb6706f82c75 button.colab-df-convert');\n",
              "        buttonEl.style.display =\n",
              "          google.colab.kernel.accessAllowed ? 'block' : 'none';\n",
              "\n",
              "        async function convertToInteractive(key) {\n",
              "          const element = document.querySelector('#df-b896f945-a5b7-48ac-b95e-bb6706f82c75');\n",
              "          const dataTable =\n",
              "            await google.colab.kernel.invokeFunction('convertToInteractive',\n",
              "                                                     [key], {});\n",
              "          if (!dataTable) return;\n",
              "\n",
              "          const docLinkHtml = 'Like what you see? Visit the ' +\n",
              "            '<a target=\"_blank\" href=https://colab.research.google.com/notebooks/data_table.ipynb>data table notebook</a>'\n",
              "            + ' to learn more about interactive tables.';\n",
              "          element.innerHTML = '';\n",
              "          dataTable['output_type'] = 'display_data';\n",
              "          await google.colab.output.renderOutput(dataTable, element);\n",
              "          const docLink = document.createElement('div');\n",
              "          docLink.innerHTML = docLinkHtml;\n",
              "          element.appendChild(docLink);\n",
              "        }\n",
              "      </script>\n",
              "    </div>\n",
              "  </div>\n",
              "  "
            ],
            "text/plain": [
              "           _unit_id  _trusted_judgments  ...   tweet_count      tweet_id\n",
              "count  2.005000e+04        20050.000000  ...  2.005000e+04  2.005000e+04\n",
              "mean   8.157294e+08            3.615711  ...  3.892469e+04  6.587350e+17\n",
              "std    6.000801e+03           12.331890  ...  1.168371e+05  5.000124e+12\n",
              "min    8.157192e+08            3.000000  ...  1.000000e+00  6.587300e+17\n",
              "25%    8.157243e+08            3.000000  ...  2.398000e+03  6.587300e+17\n",
              "50%    8.157294e+08            3.000000  ...  1.144150e+04  6.587300e+17\n",
              "75%    8.157345e+08            3.000000  ...  4.002750e+04  6.587400e+17\n",
              "max    8.157580e+08          274.000000  ...  2.680199e+06  6.587400e+17\n",
              "\n",
              "[8 rows x 8 columns]"
            ]
          },
          "metadata": {},
          "execution_count": 7
        }
      ]
    },
    {
      "cell_type": "code",
      "source": [
        "data.info()"
      ],
      "metadata": {
        "colab": {
          "base_uri": "https://localhost:8080/"
        },
        "id": "LDkUM74NUrg9",
        "outputId": "755f6f36-6a31-43d5-f983-1dd0f1912e5f"
      },
      "execution_count": null,
      "outputs": [
        {
          "output_type": "stream",
          "name": "stdout",
          "text": [
            "<class 'pandas.core.frame.DataFrame'>\n",
            "RangeIndex: 20050 entries, 0 to 20049\n",
            "Data columns (total 26 columns):\n",
            " #   Column                 Non-Null Count  Dtype  \n",
            "---  ------                 --------------  -----  \n",
            " 0   _unit_id               20050 non-null  int64  \n",
            " 1   _golden                20050 non-null  bool   \n",
            " 2   _unit_state            20050 non-null  object \n",
            " 3   _trusted_judgments     20050 non-null  int64  \n",
            " 4   _last_judgment_at      20000 non-null  object \n",
            " 5   gender                 19953 non-null  object \n",
            " 6   gender:confidence      20024 non-null  float64\n",
            " 7   profile_yn             20050 non-null  object \n",
            " 8   profile_yn:confidence  20050 non-null  float64\n",
            " 9   created                20050 non-null  object \n",
            " 10  description            16306 non-null  object \n",
            " 11  fav_number             20050 non-null  int64  \n",
            " 12  gender_gold            50 non-null     object \n",
            " 13  link_color             20050 non-null  object \n",
            " 14  name                   20050 non-null  object \n",
            " 15  profile_yn_gold        50 non-null     object \n",
            " 16  profileimage           20050 non-null  object \n",
            " 17  retweet_count          20050 non-null  int64  \n",
            " 18  sidebar_color          20050 non-null  object \n",
            " 19  text                   20050 non-null  object \n",
            " 20  tweet_coord            159 non-null    object \n",
            " 21  tweet_count            20050 non-null  int64  \n",
            " 22  tweet_created          20050 non-null  object \n",
            " 23  tweet_id               20050 non-null  float64\n",
            " 24  tweet_location         12566 non-null  object \n",
            " 25  user_timezone          12252 non-null  object \n",
            "dtypes: bool(1), float64(3), int64(5), object(17)\n",
            "memory usage: 3.8+ MB\n"
          ]
        }
      ]
    },
    {
      "cell_type": "code",
      "source": [
        "data.isnull().sum()"
      ],
      "metadata": {
        "colab": {
          "base_uri": "https://localhost:8080/"
        },
        "id": "PM6NC2kwKTuM",
        "outputId": "a12542a8-6391-4f68-9d49-9ae136f6969b"
      },
      "execution_count": null,
      "outputs": [
        {
          "output_type": "execute_result",
          "data": {
            "text/plain": [
              "_unit_id                     0\n",
              "_golden                      0\n",
              "_unit_state                  0\n",
              "_trusted_judgments           0\n",
              "_last_judgment_at           50\n",
              "gender                      97\n",
              "gender:confidence           26\n",
              "profile_yn                   0\n",
              "profile_yn:confidence        0\n",
              "created                      0\n",
              "description               3744\n",
              "fav_number                   0\n",
              "gender_gold              20000\n",
              "link_color                   0\n",
              "name                         0\n",
              "profile_yn_gold          20000\n",
              "profileimage                 0\n",
              "retweet_count                0\n",
              "sidebar_color                0\n",
              "text                         0\n",
              "tweet_coord              19891\n",
              "tweet_count                  0\n",
              "tweet_created                0\n",
              "tweet_id                     0\n",
              "tweet_location            7484\n",
              "user_timezone             7798\n",
              "dtype: int64"
            ]
          },
          "metadata": {},
          "execution_count": 9
        }
      ]
    },
    {
      "cell_type": "code",
      "source": [
        "data['retweet_count'].value_counts()"
      ],
      "metadata": {
        "colab": {
          "base_uri": "https://localhost:8080/"
        },
        "id": "-ZAMhd_9VAXb",
        "outputId": "b81d5b1e-cc7e-46cc-eb57-fea299eac579"
      },
      "execution_count": null,
      "outputs": [
        {
          "output_type": "execute_result",
          "data": {
            "text/plain": [
              "0      19431\n",
              "1        499\n",
              "2         56\n",
              "3         17\n",
              "6          8\n",
              "5          7\n",
              "4          6\n",
              "7          5\n",
              "8          3\n",
              "11         3\n",
              "12         2\n",
              "20         2\n",
              "10         2\n",
              "36         1\n",
              "9          1\n",
              "23         1\n",
              "49         1\n",
              "153        1\n",
              "15         1\n",
              "13         1\n",
              "330        1\n",
              "19         1\n",
              "Name: retweet_count, dtype: int64"
            ]
          },
          "metadata": {},
          "execution_count": 10
        }
      ]
    },
    {
      "cell_type": "code",
      "source": [
        "sns.barplot (x = 'gender', y = 'tweet_count',data = data)"
      ],
      "metadata": {
        "colab": {
          "base_uri": "https://localhost:8080/",
          "height": 297
        },
        "id": "rEoGf__rVcYj",
        "outputId": "43bf6601-1163-4444-fe18-6ce09616796c"
      },
      "execution_count": null,
      "outputs": [
        {
          "output_type": "execute_result",
          "data": {
            "text/plain": [
              "<matplotlib.axes._subplots.AxesSubplot at 0x7effa15be710>"
            ]
          },
          "metadata": {},
          "execution_count": 11
        },
        {
          "output_type": "display_data",
          "data": {
            "image/png": "[encoded data removed]",
            "text/plain": [
              "<Figure size 432x288 with 1 Axes>"
            ]
          },
          "metadata": {
            "needs_background": "light"
          }
        }
      ]
    },
    {
      "cell_type": "code",
      "source": [
        "sns.barplot (x = 'gender', y = 'retweet_count',data = data)"
      ],
      "metadata": {
        "colab": {
          "base_uri": "https://localhost:8080/",
          "height": 297
        },
        "id": "kbHWY_rsWlyQ",
        "outputId": "d8706254-2347-4ceb-ea4c-7fb211f75a06"
      },
      "execution_count": null,
      "outputs": [
        {
          "output_type": "execute_result",
          "data": {
            "text/plain": [
              "<matplotlib.axes._subplots.AxesSubplot at 0x7effa1008510>"
            ]
          },
          "metadata": {},
          "execution_count": 12
        },
        {
          "output_type": "display_data",
          "data": {
            "image/png": "[encoded data removed]",
            "text/plain": [
              "<Figure size 432x288 with 1 Axes>"
            ]
          },
          "metadata": {
            "needs_background": "light"
          }
        }
      ]
    },
    {
      "cell_type": "code",
      "source": [
        "# Visualizing null values to get a better idea of the dataset & it's trends\n",
        "plt.subplots(figsize=(15,15))\n",
        "sns.heatmap(data.isnull(), cbar=False)"
      ],
      "metadata": {
        "colab": {
          "base_uri": "https://localhost:8080/",
          "height": 983
        },
        "id": "bM5107bTWu6x",
        "outputId": "17bbfbef-4b77-43be-f119-86ce1801fb9d"
      },
      "execution_count": null,
      "outputs": [
        {
          "output_type": "execute_result",
          "data": {
            "text/plain": [
              "<matplotlib.axes._subplots.AxesSubplot at 0x7effa10074d0>"
            ]
          },
          "metadata": {},
          "execution_count": 13
        },
        {
          "output_type": "display_data",
          "data": {
            "image/png": "[encoded data removed]",
            "text/plain": [
              "<Figure size 1080x1080 with 1 Axes>"
            ]
          },
          "metadata": {
            "needs_background": "light"
          }
        }
      ]
    },
    {
      "cell_type": "code",
      "source": [
        "sns.countplot(data['gender'])"
      ],
      "metadata": {
        "colab": {
          "base_uri": "https://localhost:8080/",
          "height": 354
        },
        "id": "rr8tm6OUXsWD",
        "outputId": "1b297ab4-c095-4fb3-edba-3df1fb9ced85"
      },
      "execution_count": null,
      "outputs": [
        {
          "output_type": "stream",
          "name": "stderr",
          "text": [
            "/usr/local/lib/python3.7/dist-packages/seaborn/_decorators.py:43: FutureWarning: Pass the following variable as a keyword arg: x. From version 0.12, the only valid positional argument will be `data`, and passing other arguments without an explicit keyword will result in an error or misinterpretation.\n",
            "  FutureWarning\n"
          ]
        },
        {
          "output_type": "execute_result",
          "data": {
            "text/plain": [
              "<matplotlib.axes._subplots.AxesSubplot at 0x7eff9e5e0dd0>"
            ]
          },
          "metadata": {},
          "execution_count": 14
        },
        {
          "output_type": "display_data",
          "data": {
            "image/png": "[encoded data removed]",
            "text/plain": [
              "<Figure size 432x288 with 1 Axes>"
            ]
          },
          "metadata": {
            "needs_background": "light"
          }
        }
      ]
    },
    {
      "cell_type": "code",
      "source": [
        ""
      ],
      "metadata": {
        "id": "OW8BRWXnnlbS"
      },
      "execution_count": null,
      "outputs": []
    }
  ]
}