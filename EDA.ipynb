{
 "cells": [
  {
   "cell_type": "markdown",
   "id": "6bcadf4b",
   "metadata": {},
   "source": [
    "# EDA on Gender Classification"
   ]
  },
  {
   "cell_type": "code",
   "execution_count": 1,
   "id": "2bf330c7",
   "metadata": {},
   "outputs": [],
   "source": [
    "# import libraries\n",
    "import numpy as np\n",
    "import pandas as pd\n",
    "import seaborn as sns\n",
    "import matplotlib.pyplot as plt\n",
    "\n",
    "\n",
    "import warnings\n",
    "warnings.filterwarnings('ignore')"
   ]
  },
  {
   "cell_type": "code",
   "execution_count": 2,
   "id": "8bcf1f04",
   "metadata": {},
   "outputs": [],
   "source": [
    "#read the dataset\n",
    "data=pd.read_csv('gender-classifier.csv')"
   ]
  },
  {
   "cell_type": "code",
   "execution_count": 3,
   "id": "0caf24cf",
   "metadata": {},
   "outputs": [
    {
     "name": "stdout",
     "output_type": "stream",
     "text": [
      "<class 'pandas.core.frame.DataFrame'>\n",
      "RangeIndex: 20050 entries, 0 to 20049\n",
      "Data columns (total 26 columns):\n",
      " #   Column                 Non-Null Count  Dtype  \n",
      "---  ------                 --------------  -----  \n",
      " 0   _unit_id               20050 non-null  int64  \n",
      " 1   _golden                20050 non-null  bool   \n",
      " 2   _unit_state            20050 non-null  object \n",
      " 3   _trusted_judgments     20050 non-null  int64  \n",
      " 4   _last_judgment_at      20000 non-null  object \n",
      " 5   gender                 19953 non-null  object \n",
      " 6   gender:confidence      20024 non-null  float64\n",
      " 7   profile_yn             20050 non-null  object \n",
      " 8   profile_yn:confidence  20050 non-null  float64\n",
      " 9   created                20050 non-null  object \n",
      " 10  description            16306 non-null  object \n",
      " 11  fav_number             20050 non-null  int64  \n",
      " 12  gender_gold            50 non-null     object \n",
      " 13  link_color             20050 non-null  object \n",
      " 14  name                   20050 non-null  object \n",
      " 15  profile_yn_gold        50 non-null     object \n",
      " 16  profileimage           20050 non-null  object \n",
      " 17  retweet_count          20050 non-null  int64  \n",
      " 18  sidebar_color          20050 non-null  object \n",
      " 19  text                   20050 non-null  object \n",
      " 20  tweet_coord            159 non-null    object \n",
      " 21  tweet_count            20050 non-null  int64  \n",
      " 22  tweet_created          20050 non-null  object \n",
      " 23  tweet_id               20050 non-null  float64\n",
      " 24  tweet_location         12566 non-null  object \n",
      " 25  user_timezone          12252 non-null  object \n",
      "dtypes: bool(1), float64(3), int64(5), object(17)\n",
      "memory usage: 3.8+ MB\n"
     ]
    }
   ],
   "source": [
    "# checking the columns and type\n",
    "data.info()"
   ]
  },
  {
   "cell_type": "code",
   "execution_count": 4,
   "id": "7a3f77ae",
   "metadata": {},
   "outputs": [
    {
     "data": {
      "text/plain": [
       "521300"
      ]
     },
     "execution_count": 4,
     "metadata": {},
     "output_type": "execute_result"
    }
   ],
   "source": [
    "data.size"
   ]
  },
  {
   "cell_type": "code",
   "execution_count": 5,
   "id": "35719d56",
   "metadata": {},
   "outputs": [
    {
     "data": {
      "text/plain": [
       "Index(['_unit_id', '_golden', '_unit_state', '_trusted_judgments',\n",
       "       '_last_judgment_at', 'gender', 'gender:confidence', 'profile_yn',\n",
       "       'profile_yn:confidence', 'created', 'description', 'fav_number',\n",
       "       'gender_gold', 'link_color', 'name', 'profile_yn_gold', 'profileimage',\n",
       "       'retweet_count', 'sidebar_color', 'text', 'tweet_coord', 'tweet_count',\n",
       "       'tweet_created', 'tweet_id', 'tweet_location', 'user_timezone'],\n",
       "      dtype='object')"
      ]
     },
     "execution_count": 5,
     "metadata": {},
     "output_type": "execute_result"
    }
   ],
   "source": [
    "# Data Cleaning\n",
    "# Checking for column name consistency\n",
    "data.columns"
   ]
  },
  {
   "cell_type": "code",
   "execution_count": 6,
   "id": "c0478dd3",
   "metadata": {},
   "outputs": [
    {
     "data": {
      "text/plain": [
       "_unit_id                   int64\n",
       "_golden                     bool\n",
       "_unit_state               object\n",
       "_trusted_judgments         int64\n",
       "_last_judgment_at         object\n",
       "gender                    object\n",
       "gender:confidence        float64\n",
       "profile_yn                object\n",
       "profile_yn:confidence    float64\n",
       "created                   object\n",
       "description               object\n",
       "fav_number                 int64\n",
       "gender_gold               object\n",
       "link_color                object\n",
       "name                      object\n",
       "profile_yn_gold           object\n",
       "profileimage              object\n",
       "retweet_count              int64\n",
       "sidebar_color             object\n",
       "text                      object\n",
       "tweet_coord               object\n",
       "tweet_count                int64\n",
       "tweet_created             object\n",
       "tweet_id                 float64\n",
       "tweet_location            object\n",
       "user_timezone             object\n",
       "dtype: object"
      ]
     },
     "execution_count": 6,
     "metadata": {},
     "output_type": "execute_result"
    }
   ],
   "source": [
    "# Data Types\n",
    "data.dtypes"
   ]
  },
  {
   "cell_type": "code",
   "execution_count": 7,
   "id": "a892721a",
   "metadata": {},
   "outputs": [
    {
     "data": {
      "text/plain": [
       "_unit_id                     0\n",
       "_golden                      0\n",
       "_unit_state                  0\n",
       "_trusted_judgments           0\n",
       "_last_judgment_at           50\n",
       "gender                      97\n",
       "gender:confidence           26\n",
       "profile_yn                   0\n",
       "profile_yn:confidence        0\n",
       "created                      0\n",
       "description               3744\n",
       "fav_number                   0\n",
       "gender_gold              20000\n",
       "link_color                   0\n",
       "name                         0\n",
       "profile_yn_gold          20000\n",
       "profileimage                 0\n",
       "retweet_count                0\n",
       "sidebar_color                0\n",
       "text                         0\n",
       "tweet_coord              19891\n",
       "tweet_count                  0\n",
       "tweet_created                0\n",
       "tweet_id                     0\n",
       "tweet_location            7484\n",
       "user_timezone             7798\n",
       "dtype: int64"
      ]
     },
     "execution_count": 7,
     "metadata": {},
     "output_type": "execute_result"
    }
   ],
   "source": [
    "# Checking for Missing Values\n",
    "data.isnull().sum()"
   ]
  },
  {
   "cell_type": "code",
   "execution_count": 8,
   "id": "15f8746b",
   "metadata": {},
   "outputs": [
    {
     "data": {
      "image/png": "[encoded data removed]",
      "text/plain": [
       "<Figure size 432x288 with 2 Axes>"
      ]
     },
     "metadata": {
      "needs_background": "light"
     },
     "output_type": "display_data"
    }
   ],
   "source": [
    "#EDA\n",
    "sns.heatmap(data.corr(),annot=True)\n",
    "plt.rcParams['figure.figsize']=20,10"
   ]
  },
  {
   "cell_type": "code",
   "execution_count": 9,
   "id": "fd9a9473",
   "metadata": {},
   "outputs": [
    {
     "data": {
      "text/html": [
       "<div>\n",
       "<style scoped>\n",
       "    .dataframe tbody tr th:only-of-type {\n",
       "        vertical-align: middle;\n",
       "    }\n",
       "\n",
       "    .dataframe tbody tr th {\n",
       "        vertical-align: top;\n",
       "    }\n",
       "\n",
       "    .dataframe thead th {\n",
       "        text-align: right;\n",
       "    }\n",
       "</style>\n",
       "<table border=\"1\" class=\"dataframe\">\n",
       "  <thead>\n",
       "    <tr style=\"text-align: right;\">\n",
       "      <th></th>\n",
       "      <th>_unit_id</th>\n",
       "      <th>_golden</th>\n",
       "      <th>_trusted_judgments</th>\n",
       "      <th>gender:confidence</th>\n",
       "      <th>profile_yn:confidence</th>\n",
       "      <th>fav_number</th>\n",
       "      <th>retweet_count</th>\n",
       "      <th>tweet_count</th>\n",
       "      <th>tweet_id</th>\n",
       "    </tr>\n",
       "  </thead>\n",
       "  <tbody>\n",
       "    <tr>\n",
       "      <th>_unit_id</th>\n",
       "      <td>1.000000</td>\n",
       "      <td>0.208055</td>\n",
       "      <td>0.207651</td>\n",
       "      <td>0.007918</td>\n",
       "      <td>0.015168</td>\n",
       "      <td>0.024878</td>\n",
       "      <td>-0.004337</td>\n",
       "      <td>-0.024809</td>\n",
       "      <td>0.844887</td>\n",
       "    </tr>\n",
       "    <tr>\n",
       "      <th>_golden</th>\n",
       "      <td>0.208055</td>\n",
       "      <td>1.000000</td>\n",
       "      <td>0.998592</td>\n",
       "      <td>0.008818</td>\n",
       "      <td>0.005592</td>\n",
       "      <td>0.003794</td>\n",
       "      <td>-0.000744</td>\n",
       "      <td>-0.009669</td>\n",
       "      <td>-0.005985</td>\n",
       "    </tr>\n",
       "    <tr>\n",
       "      <th>_trusted_judgments</th>\n",
       "      <td>0.207651</td>\n",
       "      <td>0.998592</td>\n",
       "      <td>1.000000</td>\n",
       "      <td>0.009550</td>\n",
       "      <td>0.005543</td>\n",
       "      <td>0.003851</td>\n",
       "      <td>-0.000765</td>\n",
       "      <td>-0.009703</td>\n",
       "      <td>-0.005781</td>\n",
       "    </tr>\n",
       "    <tr>\n",
       "      <th>gender:confidence</th>\n",
       "      <td>0.007918</td>\n",
       "      <td>0.008818</td>\n",
       "      <td>0.009550</td>\n",
       "      <td>1.000000</td>\n",
       "      <td>0.313628</td>\n",
       "      <td>-0.030889</td>\n",
       "      <td>-0.004947</td>\n",
       "      <td>-0.013558</td>\n",
       "      <td>0.027901</td>\n",
       "    </tr>\n",
       "    <tr>\n",
       "      <th>profile_yn:confidence</th>\n",
       "      <td>0.015168</td>\n",
       "      <td>0.005592</td>\n",
       "      <td>0.005543</td>\n",
       "      <td>0.313628</td>\n",
       "      <td>1.000000</td>\n",
       "      <td>-0.003256</td>\n",
       "      <td>0.001376</td>\n",
       "      <td>-0.012665</td>\n",
       "      <td>0.019044</td>\n",
       "    </tr>\n",
       "    <tr>\n",
       "      <th>fav_number</th>\n",
       "      <td>0.024878</td>\n",
       "      <td>0.003794</td>\n",
       "      <td>0.003851</td>\n",
       "      <td>-0.030889</td>\n",
       "      <td>-0.003256</td>\n",
       "      <td>1.000000</td>\n",
       "      <td>0.008274</td>\n",
       "      <td>0.066733</td>\n",
       "      <td>0.041788</td>\n",
       "    </tr>\n",
       "    <tr>\n",
       "      <th>retweet_count</th>\n",
       "      <td>-0.004337</td>\n",
       "      <td>-0.000744</td>\n",
       "      <td>-0.000765</td>\n",
       "      <td>-0.004947</td>\n",
       "      <td>0.001376</td>\n",
       "      <td>0.008274</td>\n",
       "      <td>1.000000</td>\n",
       "      <td>-0.001263</td>\n",
       "      <td>-0.006466</td>\n",
       "    </tr>\n",
       "    <tr>\n",
       "      <th>tweet_count</th>\n",
       "      <td>-0.024809</td>\n",
       "      <td>-0.009669</td>\n",
       "      <td>-0.009703</td>\n",
       "      <td>-0.013558</td>\n",
       "      <td>-0.012665</td>\n",
       "      <td>0.066733</td>\n",
       "      <td>-0.001263</td>\n",
       "      <td>1.000000</td>\n",
       "      <td>-0.037836</td>\n",
       "    </tr>\n",
       "    <tr>\n",
       "      <th>tweet_id</th>\n",
       "      <td>0.844887</td>\n",
       "      <td>-0.005985</td>\n",
       "      <td>-0.005781</td>\n",
       "      <td>0.027901</td>\n",
       "      <td>0.019044</td>\n",
       "      <td>0.041788</td>\n",
       "      <td>-0.006466</td>\n",
       "      <td>-0.037836</td>\n",
       "      <td>1.000000</td>\n",
       "    </tr>\n",
       "  </tbody>\n",
       "</table>\n",
       "</div>"
      ],
      "text/plain": [
       "                       _unit_id   _golden  _trusted_judgments  \\\n",
       "_unit_id               1.000000  0.208055            0.207651   \n",
       "_golden                0.208055  1.000000            0.998592   \n",
       "_trusted_judgments     0.207651  0.998592            1.000000   \n",
       "gender:confidence      0.007918  0.008818            0.009550   \n",
       "profile_yn:confidence  0.015168  0.005592            0.005543   \n",
       "fav_number             0.024878  0.003794            0.003851   \n",
       "retweet_count         -0.004337 -0.000744           -0.000765   \n",
       "tweet_count           -0.024809 -0.009669           -0.009703   \n",
       "tweet_id               0.844887 -0.005985           -0.005781   \n",
       "\n",
       "                       gender:confidence  profile_yn:confidence  fav_number  \\\n",
       "_unit_id                        0.007918               0.015168    0.024878   \n",
       "_golden                         0.008818               0.005592    0.003794   \n",
       "_trusted_judgments              0.009550               0.005543    0.003851   \n",
       "gender:confidence               1.000000               0.313628   -0.030889   \n",
       "profile_yn:confidence           0.313628               1.000000   -0.003256   \n",
       "fav_number                     -0.030889              -0.003256    1.000000   \n",
       "retweet_count                  -0.004947               0.001376    0.008274   \n",
       "tweet_count                    -0.013558              -0.012665    0.066733   \n",
       "tweet_id                        0.027901               0.019044    0.041788   \n",
       "\n",
       "                       retweet_count  tweet_count  tweet_id  \n",
       "_unit_id                   -0.004337    -0.024809  0.844887  \n",
       "_golden                    -0.000744    -0.009669 -0.005985  \n",
       "_trusted_judgments         -0.000765    -0.009703 -0.005781  \n",
       "gender:confidence          -0.004947    -0.013558  0.027901  \n",
       "profile_yn:confidence       0.001376    -0.012665  0.019044  \n",
       "fav_number                  0.008274     0.066733  0.041788  \n",
       "retweet_count               1.000000    -0.001263 -0.006466  \n",
       "tweet_count                -0.001263     1.000000 -0.037836  \n",
       "tweet_id                   -0.006466    -0.037836  1.000000  "
      ]
     },
     "execution_count": 9,
     "metadata": {},
     "output_type": "execute_result"
    }
   ],
   "source": [
    "data.corr().transpose()"
   ]
  },
  {
   "cell_type": "code",
   "execution_count": 10,
   "id": "849ada66",
   "metadata": {},
   "outputs": [
    {
     "data": {
      "text/plain": [
       "1.0000    13926\n",
       "0.0000       71\n",
       "0.6691       31\n",
       "0.6591       30\n",
       "0.6667       30\n",
       "          ...  \n",
       "0.3553        1\n",
       "0.3552        1\n",
       "0.3393        1\n",
       "0.6936        1\n",
       "0.3381        1\n",
       "Name: gender:confidence, Length: 923, dtype: int64"
      ]
     },
     "execution_count": 10,
     "metadata": {},
     "output_type": "execute_result"
    }
   ],
   "source": [
    "data['gender:confidence'].value_counts()"
   ]
  },
  {
   "cell_type": "code",
   "execution_count": 11,
   "id": "32d0a3ab",
   "metadata": {},
   "outputs": [],
   "source": [
    "data=data[data['gender:confidence']>=0.99]"
   ]
  },
  {
   "cell_type": "code",
   "execution_count": 12,
   "id": "c104eb0b",
   "metadata": {},
   "outputs": [
    {
     "data": {
      "text/plain": [
       "1.0    13926\n",
       "Name: gender:confidence, dtype: int64"
      ]
     },
     "execution_count": 12,
     "metadata": {},
     "output_type": "execute_result"
    }
   ],
   "source": [
    "data['gender:confidence'].value_counts()"
   ]
  },
  {
   "cell_type": "code",
   "execution_count": 13,
   "id": "fd4ca660",
   "metadata": {},
   "outputs": [
    {
     "data": {
      "text/plain": [
       "female     5367\n",
       "male       4653\n",
       "brand      3784\n",
       "unknown     122\n",
       "Name: gender, dtype: int64"
      ]
     },
     "execution_count": 13,
     "metadata": {},
     "output_type": "execute_result"
    }
   ],
   "source": [
    "data['gender'].value_counts()"
   ]
  },
  {
   "cell_type": "code",
   "execution_count": 14,
   "id": "f6b08c5b",
   "metadata": {},
   "outputs": [
    {
     "data": {
      "text/plain": [
       "<AxesSubplot:>"
      ]
     },
     "execution_count": 14,
     "metadata": {},
     "output_type": "execute_result"
    },
    {
     "data": {
      "image/png": "[encoded data removed]",
      "text/plain": [
       "<Figure size 1440x720 with 1 Axes>"
      ]
     },
     "metadata": {
      "needs_background": "light"
     },
     "output_type": "display_data"
    }
   ],
   "source": [
    "data['gender'].hist(bins=12)"
   ]
  },
  {
   "cell_type": "code",
   "execution_count": 15,
   "id": "0dc0da56",
   "metadata": {},
   "outputs": [
    {
     "data": {
      "text/plain": [
       "count      13926\n",
       "unique         4\n",
       "top       female\n",
       "freq        5367\n",
       "Name: gender, dtype: object"
      ]
     },
     "execution_count": 15,
     "metadata": {},
     "output_type": "execute_result"
    }
   ],
   "source": [
    "#filling missing values\n",
    "data['gender'].describe()"
   ]
  },
  {
   "cell_type": "code",
   "execution_count": 16,
   "id": "2d7e4c13",
   "metadata": {},
   "outputs": [
    {
     "data": {
      "text/plain": [
       "0          male\n",
       "1          male\n",
       "3          male\n",
       "4        female\n",
       "5        female\n",
       "          ...  \n",
       "20044    female\n",
       "20045    female\n",
       "20046      male\n",
       "20047      male\n",
       "20049    female\n",
       "Name: gender, Length: 13926, dtype: object"
      ]
     },
     "execution_count": 16,
     "metadata": {},
     "output_type": "execute_result"
    }
   ],
   "source": [
    "data['gender'].fillna(data['gender'].mode()[0])"
   ]
  },
  {
   "cell_type": "code",
   "execution_count": 17,
   "id": "0fe8a88d",
   "metadata": {},
   "outputs": [
    {
     "data": {
      "text/plain": [
       "(13926, 26)"
      ]
     },
     "execution_count": 17,
     "metadata": {},
     "output_type": "execute_result"
    }
   ],
   "source": [
    "data.shape"
   ]
  },
  {
   "cell_type": "code",
   "execution_count": 18,
   "id": "0b1102f2",
   "metadata": {},
   "outputs": [
    {
     "data": {
      "text/plain": [
       "0"
      ]
     },
     "execution_count": 18,
     "metadata": {},
     "output_type": "execute_result"
    }
   ],
   "source": [
    "data['gender'].isnull().sum()"
   ]
  },
  {
   "cell_type": "code",
   "execution_count": 19,
   "id": "b231c868",
   "metadata": {},
   "outputs": [],
   "source": [
    "# Replacing unknown values\n",
    "data['gender'].replace(to_replace='unknown',value='male',inplace=True)"
   ]
  },
  {
   "cell_type": "code",
   "execution_count": 20,
   "id": "02b7f13f",
   "metadata": {},
   "outputs": [
    {
     "data": {
      "text/plain": [
       "female    5367\n",
       "male      4775\n",
       "brand     3784\n",
       "Name: gender, dtype: int64"
      ]
     },
     "execution_count": 20,
     "metadata": {},
     "output_type": "execute_result"
    }
   ],
   "source": [
    "data['gender'].value_counts()"
   ]
  },
  {
   "cell_type": "code",
   "execution_count": 21,
   "id": "6ce32199",
   "metadata": {},
   "outputs": [
    {
     "data": {
      "text/plain": [
       "0      13456\n",
       "1        381\n",
       "2         42\n",
       "3         15\n",
       "6          7\n",
       "5          4\n",
       "7          4\n",
       "4          4\n",
       "8          2\n",
       "12         2\n",
       "20         2\n",
       "10         2\n",
       "36         1\n",
       "11         1\n",
       "13         1\n",
       "153        1\n",
       "15         1\n",
       "Name: retweet_count, dtype: int64"
      ]
     },
     "execution_count": 21,
     "metadata": {},
     "output_type": "execute_result"
    }
   ],
   "source": [
    "data['retweet_count'].value_counts()"
   ]
  },
  {
   "cell_type": "code",
   "execution_count": 22,
   "id": "77c18dc2",
   "metadata": {},
   "outputs": [
    {
     "data": {
      "text/plain": [
       "<AxesSubplot:xlabel='gender', ylabel='tweet_count'>"
      ]
     },
     "execution_count": 22,
     "metadata": {},
     "output_type": "execute_result"
    },
    {
     "data": {
      "image/png": "[encoded data removed]",
      "text/plain": [
       "<Figure size 1440x720 with 1 Axes>"
      ]
     },
     "metadata": {
      "needs_background": "light"
     },
     "output_type": "display_data"
    }
   ],
   "source": [
    "sns.barplot (x = 'gender', y = 'tweet_count',data = data)"
   ]
  },
  {
   "cell_type": "code",
   "execution_count": 23,
   "id": "524ef43d",
   "metadata": {},
   "outputs": [
    {
     "data": {
      "text/plain": [
       "<AxesSubplot:xlabel='gender', ylabel='retweet_count'>"
      ]
     },
     "execution_count": 23,
     "metadata": {},
     "output_type": "execute_result"
    },
    {
     "data": {
      "image/png": "[encoded data removed]",
      "text/plain": [
       "<Figure size 1440x720 with 1 Axes>"
      ]
     },
     "metadata": {
      "needs_background": "light"
     },
     "output_type": "display_data"
    }
   ],
   "source": [
    "sns.barplot (x = 'gender', y = 'retweet_count',data = data)"
   ]
  },
  {
   "cell_type": "code",
   "execution_count": null,
   "id": "dd54647c",
   "metadata": {},
   "outputs": [],
   "source": []
  },
  {
   "cell_type": "code",
   "execution_count": null,
   "id": "3e342ddc",
   "metadata": {},
   "outputs": [],
   "source": []
  }
 ],
 "metadata": {
  "kernelspec": {
   "display_name": "Python 3",
   "language": "python",
   "name": "python3"
  },
  "language_info": {
   "codemirror_mode": {
    "name": "ipython",
    "version": 3
   },
   "file_extension": ".py",
   "mimetype": "text/x-python",
   "name": "python",
   "nbconvert_exporter": "python",
   "pygments_lexer": "ipython3",
   "version": "3.8.8"
  }
 },
 "nbformat": 4,
 "nbformat_minor": 5
}
